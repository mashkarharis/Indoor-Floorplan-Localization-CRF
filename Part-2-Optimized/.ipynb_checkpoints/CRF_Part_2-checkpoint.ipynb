{
 "cells": [
  {
   "cell_type": "markdown",
   "id": "14c87b76",
   "metadata": {},
   "source": [
    "# Build Model"
   ]
  },
  {
   "cell_type": "markdown",
   "id": "a0c5ae38",
   "metadata": {},
   "source": [
    "### Import Libraries"
   ]
  },
  {
   "cell_type": "code",
   "execution_count": 1,
   "id": "e91e6e12",
   "metadata": {},
   "outputs": [],
   "source": [
    "import pandas as pd \n",
    "from matplotlib import image\n",
    "from matplotlib import pyplot as plt\n",
    "from math import cos, asin, sqrt, pi, atan2, log\n",
    "import numpy as np\n",
    "import torch\n",
    "import torch.utils.data as data\n",
    "from torch.utils.data import TensorDataset\n",
    "from torch.utils.data import DataLoader\n",
    "import torch.nn.functional as F"
   ]
  },
  {
   "cell_type": "markdown",
   "id": "da59c1a7",
   "metadata": {},
   "source": [
    "### Loading Prepared Data"
   ]
  },
  {
   "cell_type": "markdown",
   "id": "cedabf27",
   "metadata": {},
   "source": [
    "1. Loading Data CSV"
   ]
  },
  {
   "cell_type": "code",
   "execution_count": 2,
   "id": "2a1d11b0",
   "metadata": {},
   "outputs": [
    {
     "data": {
      "text/html": [
       "<div>\n",
       "<style scoped>\n",
       "    .dataframe tbody tr th:only-of-type {\n",
       "        vertical-align: middle;\n",
       "    }\n",
       "\n",
       "    .dataframe tbody tr th {\n",
       "        vertical-align: top;\n",
       "    }\n",
       "\n",
       "    .dataframe thead th {\n",
       "        text-align: right;\n",
       "    }\n",
       "</style>\n",
       "<table border=\"1\" class=\"dataframe\">\n",
       "  <thead>\n",
       "    <tr style=\"text-align: right;\">\n",
       "      <th></th>\n",
       "      <th>startX</th>\n",
       "      <th>startY</th>\n",
       "      <th>velocity_value_1</th>\n",
       "      <th>velocity_value_2</th>\n",
       "      <th>velocity_value_3</th>\n",
       "      <th>velocity_value_4</th>\n",
       "      <th>velocity_value_5</th>\n",
       "      <th>velocity_value_6</th>\n",
       "      <th>velocity_value_7</th>\n",
       "      <th>velocity_value_8</th>\n",
       "      <th>...</th>\n",
       "      <th>state_11</th>\n",
       "      <th>state_12</th>\n",
       "      <th>state_13</th>\n",
       "      <th>state_14</th>\n",
       "      <th>state_15</th>\n",
       "      <th>state_16</th>\n",
       "      <th>state_17</th>\n",
       "      <th>state_18</th>\n",
       "      <th>state_19</th>\n",
       "      <th>state_20</th>\n",
       "    </tr>\n",
       "  </thead>\n",
       "  <tbody>\n",
       "    <tr>\n",
       "      <th>0</th>\n",
       "      <td>86.878209</td>\n",
       "      <td>216.274132</td>\n",
       "      <td>1.608839</td>\n",
       "      <td>0.448801</td>\n",
       "      <td>0.265213</td>\n",
       "      <td>0.072890</td>\n",
       "      <td>0.000000</td>\n",
       "      <td>0.072421</td>\n",
       "      <td>2.113376</td>\n",
       "      <td>0.826399</td>\n",
       "      <td>...</td>\n",
       "      <td>23</td>\n",
       "      <td>23</td>\n",
       "      <td>23</td>\n",
       "      <td>23</td>\n",
       "      <td>23</td>\n",
       "      <td>23</td>\n",
       "      <td>23</td>\n",
       "      <td>23</td>\n",
       "      <td>23</td>\n",
       "      <td>23</td>\n",
       "    </tr>\n",
       "    <tr>\n",
       "      <th>1</th>\n",
       "      <td>87.313688</td>\n",
       "      <td>216.385327</td>\n",
       "      <td>0.448801</td>\n",
       "      <td>0.265213</td>\n",
       "      <td>0.072890</td>\n",
       "      <td>0.000000</td>\n",
       "      <td>0.072421</td>\n",
       "      <td>2.113376</td>\n",
       "      <td>0.826399</td>\n",
       "      <td>0.069784</td>\n",
       "      <td>...</td>\n",
       "      <td>23</td>\n",
       "      <td>23</td>\n",
       "      <td>23</td>\n",
       "      <td>23</td>\n",
       "      <td>23</td>\n",
       "      <td>23</td>\n",
       "      <td>23</td>\n",
       "      <td>23</td>\n",
       "      <td>23</td>\n",
       "      <td>23</td>\n",
       "    </tr>\n",
       "    <tr>\n",
       "      <th>2</th>\n",
       "      <td>87.168528</td>\n",
       "      <td>216.162941</td>\n",
       "      <td>0.265213</td>\n",
       "      <td>0.072890</td>\n",
       "      <td>0.000000</td>\n",
       "      <td>0.072421</td>\n",
       "      <td>2.113376</td>\n",
       "      <td>0.826399</td>\n",
       "      <td>0.069784</td>\n",
       "      <td>0.102970</td>\n",
       "      <td>...</td>\n",
       "      <td>23</td>\n",
       "      <td>23</td>\n",
       "      <td>23</td>\n",
       "      <td>23</td>\n",
       "      <td>23</td>\n",
       "      <td>23</td>\n",
       "      <td>23</td>\n",
       "      <td>23</td>\n",
       "      <td>23</td>\n",
       "      <td>23</td>\n",
       "    </tr>\n",
       "    <tr>\n",
       "      <th>3</th>\n",
       "      <td>87.241094</td>\n",
       "      <td>216.162941</td>\n",
       "      <td>0.072890</td>\n",
       "      <td>0.000000</td>\n",
       "      <td>0.072421</td>\n",
       "      <td>2.113376</td>\n",
       "      <td>0.826399</td>\n",
       "      <td>0.069784</td>\n",
       "      <td>0.102970</td>\n",
       "      <td>0.000000</td>\n",
       "      <td>...</td>\n",
       "      <td>23</td>\n",
       "      <td>23</td>\n",
       "      <td>23</td>\n",
       "      <td>23</td>\n",
       "      <td>23</td>\n",
       "      <td>23</td>\n",
       "      <td>23</td>\n",
       "      <td>23</td>\n",
       "      <td>23</td>\n",
       "      <td>23</td>\n",
       "    </tr>\n",
       "    <tr>\n",
       "      <th>4</th>\n",
       "      <td>87.241094</td>\n",
       "      <td>216.162941</td>\n",
       "      <td>0.000000</td>\n",
       "      <td>0.072421</td>\n",
       "      <td>2.113376</td>\n",
       "      <td>0.826399</td>\n",
       "      <td>0.069784</td>\n",
       "      <td>0.102970</td>\n",
       "      <td>0.000000</td>\n",
       "      <td>0.108577</td>\n",
       "      <td>...</td>\n",
       "      <td>23</td>\n",
       "      <td>23</td>\n",
       "      <td>23</td>\n",
       "      <td>23</td>\n",
       "      <td>23</td>\n",
       "      <td>23</td>\n",
       "      <td>23</td>\n",
       "      <td>23</td>\n",
       "      <td>23</td>\n",
       "      <td>23</td>\n",
       "    </tr>\n",
       "  </tbody>\n",
       "</table>\n",
       "<p>5 rows × 62 columns</p>\n",
       "</div>"
      ],
      "text/plain": [
       "      startX      startY  velocity_value_1  velocity_value_2  \\\n",
       "0  86.878209  216.274132          1.608839          0.448801   \n",
       "1  87.313688  216.385327          0.448801          0.265213   \n",
       "2  87.168528  216.162941          0.265213          0.072890   \n",
       "3  87.241094  216.162941          0.072890          0.000000   \n",
       "4  87.241094  216.162941          0.000000          0.072421   \n",
       "\n",
       "   velocity_value_3  velocity_value_4  velocity_value_5  velocity_value_6  \\\n",
       "0          0.265213          0.072890          0.000000          0.072421   \n",
       "1          0.072890          0.000000          0.072421          2.113376   \n",
       "2          0.000000          0.072421          2.113376          0.826399   \n",
       "3          0.072421          2.113376          0.826399          0.069784   \n",
       "4          2.113376          0.826399          0.069784          0.102970   \n",
       "\n",
       "   velocity_value_7  velocity_value_8  ...  state_11  state_12  state_13  \\\n",
       "0          2.113376          0.826399  ...        23        23        23   \n",
       "1          0.826399          0.069784  ...        23        23        23   \n",
       "2          0.069784          0.102970  ...        23        23        23   \n",
       "3          0.102970          0.000000  ...        23        23        23   \n",
       "4          0.000000          0.108577  ...        23        23        23   \n",
       "\n",
       "   state_14  state_15  state_16  state_17  state_18  state_19  state_20  \n",
       "0        23        23        23        23        23        23        23  \n",
       "1        23        23        23        23        23        23        23  \n",
       "2        23        23        23        23        23        23        23  \n",
       "3        23        23        23        23        23        23        23  \n",
       "4        23        23        23        23        23        23        23  \n",
       "\n",
       "[5 rows x 62 columns]"
      ]
     },
     "execution_count": 2,
     "metadata": {},
     "output_type": "execute_result"
    }
   ],
   "source": [
    "dataset = pd.read_csv(\"part_1_output/final_prepared_dataset.csv\") \n",
    "datasetdf=pd.DataFrame(dataset)\n",
    "datasetdf.head()"
   ]
  },
  {
   "cell_type": "markdown",
   "id": "7d63c496",
   "metadata": {},
   "source": [
    "2. Load Floorplan Graph Dataset"
   ]
  },
  {
   "cell_type": "code",
   "execution_count": 3,
   "id": "fca3e556",
   "metadata": {
    "scrolled": false
   },
   "outputs": [
    {
     "data": {
      "text/html": [
       "<div>\n",
       "<style scoped>\n",
       "    .dataframe tbody tr th:only-of-type {\n",
       "        vertical-align: middle;\n",
       "    }\n",
       "\n",
       "    .dataframe tbody tr th {\n",
       "        vertical-align: top;\n",
       "    }\n",
       "\n",
       "    .dataframe thead th {\n",
       "        text-align: right;\n",
       "    }\n",
       "</style>\n",
       "<table border=\"1\" class=\"dataframe\">\n",
       "  <thead>\n",
       "    <tr style=\"text-align: right;\">\n",
       "      <th></th>\n",
       "      <th>nodeid</th>\n",
       "      <th>x_dir_pixels</th>\n",
       "      <th>y_dir_pixels</th>\n",
       "      <th>connected_graph_id</th>\n",
       "    </tr>\n",
       "  </thead>\n",
       "  <tbody>\n",
       "    <tr>\n",
       "      <th>0</th>\n",
       "      <td>0</td>\n",
       "      <td>392</td>\n",
       "      <td>285</td>\n",
       "      <td>G1</td>\n",
       "    </tr>\n",
       "    <tr>\n",
       "      <th>1</th>\n",
       "      <td>1</td>\n",
       "      <td>283</td>\n",
       "      <td>353</td>\n",
       "      <td>G1</td>\n",
       "    </tr>\n",
       "    <tr>\n",
       "      <th>2</th>\n",
       "      <td>2</td>\n",
       "      <td>445</td>\n",
       "      <td>357</td>\n",
       "      <td>G1</td>\n",
       "    </tr>\n",
       "    <tr>\n",
       "      <th>3</th>\n",
       "      <td>3</td>\n",
       "      <td>447</td>\n",
       "      <td>442</td>\n",
       "      <td>G1</td>\n",
       "    </tr>\n",
       "    <tr>\n",
       "      <th>4</th>\n",
       "      <td>4</td>\n",
       "      <td>280</td>\n",
       "      <td>270</td>\n",
       "      <td>G1</td>\n",
       "    </tr>\n",
       "  </tbody>\n",
       "</table>\n",
       "</div>"
      ],
      "text/plain": [
       "   nodeid  x_dir_pixels  y_dir_pixels connected_graph_id\n",
       "0       0           392           285                 G1\n",
       "1       1           283           353                 G1\n",
       "2       2           445           357                 G1\n",
       "3       3           447           442                 G1\n",
       "4       4           280           270                 G1"
      ]
     },
     "execution_count": 3,
     "metadata": {},
     "output_type": "execute_result"
    }
   ],
   "source": [
    "graph = pd.read_csv(\"part_1_output/floor_plan_graph.csv\") \n",
    "graphdf=pd.DataFrame(graph)\n",
    "graphdf.head()"
   ]
  },
  {
   "cell_type": "code",
   "execution_count": 4,
   "id": "37569fe1",
   "metadata": {},
   "outputs": [
    {
     "data": {
      "text/plain": [
       "dict_values([{'nodeid': 0, 'x_dir_pixels': 392, 'y_dir_pixels': 285, 'connected_graph_id': 'G1'}, {'nodeid': 1, 'x_dir_pixels': 283, 'y_dir_pixels': 353, 'connected_graph_id': 'G1'}, {'nodeid': 2, 'x_dir_pixels': 445, 'y_dir_pixels': 357, 'connected_graph_id': 'G1'}, {'nodeid': 3, 'x_dir_pixels': 447, 'y_dir_pixels': 442, 'connected_graph_id': 'G1'}, {'nodeid': 4, 'x_dir_pixels': 280, 'y_dir_pixels': 270, 'connected_graph_id': 'G1'}, {'nodeid': 5, 'x_dir_pixels': 308, 'y_dir_pixels': 228, 'connected_graph_id': 'G1'}, {'nodeid': 6, 'x_dir_pixels': 283, 'y_dir_pixels': 415, 'connected_graph_id': 'G1'}, {'nodeid': 7, 'x_dir_pixels': 260, 'y_dir_pixels': 550, 'connected_graph_id': 'G1'}, {'nodeid': 8, 'x_dir_pixels': 265, 'y_dir_pixels': 493, 'connected_graph_id': 'G1'}, {'nodeid': 9, 'x_dir_pixels': 269, 'y_dir_pixels': 436, 'connected_graph_id': 'G1'}, {'nodeid': 10, 'x_dir_pixels': 261, 'y_dir_pixels': 513, 'connected_graph_id': 'G1'}, {'nodeid': 11, 'x_dir_pixels': 258, 'y_dir_pixels': 470, 'connected_graph_id': 'G1'}, {'nodeid': 12, 'x_dir_pixels': 390, 'y_dir_pixels': 500, 'connected_graph_id': 'G1'}, {'nodeid': 13, 'x_dir_pixels': 341, 'y_dir_pixels': 500, 'connected_graph_id': 'G1'}, {'nodeid': 14, 'x_dir_pixels': 263, 'y_dir_pixels': 449, 'connected_graph_id': 'G1'}, {'nodeid': 15, 'x_dir_pixels': 266, 'y_dir_pixels': 366, 'connected_graph_id': 'G1'}, {'nodeid': 16, 'x_dir_pixels': 275, 'y_dir_pixels': 319, 'connected_graph_id': 'G1'}, {'nodeid': 17, 'x_dir_pixels': 282, 'y_dir_pixels': 463, 'connected_graph_id': 'G1'}, {'nodeid': 18, 'x_dir_pixels': 282, 'y_dir_pixels': 306, 'connected_graph_id': 'G1'}, {'nodeid': 19, 'x_dir_pixels': 440, 'y_dir_pixels': 500, 'connected_graph_id': 'G1'}, {'nodeid': 20, 'x_dir_pixels': 286, 'y_dir_pixels': 331, 'connected_graph_id': 'G1'}, {'nodeid': 21, 'x_dir_pixels': 283, 'y_dir_pixels': 332, 'connected_graph_id': 'G1'}, {'nodeid': 22, 'x_dir_pixels': 285, 'y_dir_pixels': 369, 'connected_graph_id': 'G1'}, {'nodeid': 23, 'x_dir_pixels': 230, 'y_dir_pixels': 540, 'connected_graph_id': 'G1'}, {'nodeid': 24, 'x_dir_pixels': 438, 'y_dir_pixels': 323, 'connected_graph_id': 'G1'}, {'nodeid': 25, 'x_dir_pixels': 289, 'y_dir_pixels': 390, 'connected_graph_id': 'G1'}, {'nodeid': 26, 'x_dir_pixels': 329, 'y_dir_pixels': 240, 'connected_graph_id': 'G1'}, {'nodeid': 27, 'x_dir_pixels': 200, 'y_dir_pixels': 550, 'connected_graph_id': 'G1'}, {'nodeid': 28, 'x_dir_pixels': 371, 'y_dir_pixels': 265, 'connected_graph_id': 'G1'}, {'nodeid': 29, 'x_dir_pixels': 282, 'y_dir_pixels': 242, 'connected_graph_id': 'G1'}])"
      ]
     },
     "execution_count": 4,
     "metadata": {},
     "output_type": "execute_result"
    }
   ],
   "source": [
    "graph_dict=graphdf.T.to_dict().values()\n",
    "graph_dict"
   ]
  },
  {
   "cell_type": "markdown",
   "id": "0aa9de71",
   "metadata": {},
   "source": [
    "3. Floorplan Graph Image"
   ]
  },
  {
   "cell_type": "code",
   "execution_count": 5,
   "id": "0426c163",
   "metadata": {},
   "outputs": [
    {
     "data": {
      "image/png": "[encoded data removed]",
      "text/plain": [
       "<Figure size 720x720 with 1 Axes>"
      ]
     },
     "metadata": {
      "needs_background": "light"
     },
     "output_type": "display_data"
    }
   ],
   "source": [
    "floorplan = image.imread('part_1_output/floor_plan_graph.png')\n",
    "plt.figure(figsize = (10,10))\n",
    "plt.imshow(floorplan)\n",
    "plt.show()"
   ]
  },
  {
   "cell_type": "markdown",
   "id": "95cdcf01",
   "metadata": {},
   "source": [
    "### Prepare Train Test Set"
   ]
  },
  {
   "cell_type": "markdown",
   "id": "99f6fa45",
   "metadata": {},
   "source": [
    "Split inputs and targets"
   ]
  },
  {
   "cell_type": "code",
   "execution_count": 6,
   "id": "dde7597b",
   "metadata": {},
   "outputs": [
    {
     "data": {
      "text/html": [
       "<div>\n",
       "<style scoped>\n",
       "    .dataframe tbody tr th:only-of-type {\n",
       "        vertical-align: middle;\n",
       "    }\n",
       "\n",
       "    .dataframe tbody tr th {\n",
       "        vertical-align: top;\n",
       "    }\n",
       "\n",
       "    .dataframe thead th {\n",
       "        text-align: right;\n",
       "    }\n",
       "</style>\n",
       "<table border=\"1\" class=\"dataframe\">\n",
       "  <thead>\n",
       "    <tr style=\"text-align: right;\">\n",
       "      <th></th>\n",
       "      <th>startX</th>\n",
       "      <th>startY</th>\n",
       "      <th>velocity_value_1</th>\n",
       "      <th>velocity_value_2</th>\n",
       "      <th>velocity_value_3</th>\n",
       "      <th>velocity_value_4</th>\n",
       "      <th>velocity_value_5</th>\n",
       "      <th>velocity_value_6</th>\n",
       "      <th>velocity_value_7</th>\n",
       "      <th>velocity_value_8</th>\n",
       "      <th>...</th>\n",
       "      <th>velocity_angle_11</th>\n",
       "      <th>velocity_angle_12</th>\n",
       "      <th>velocity_angle_13</th>\n",
       "      <th>velocity_angle_14</th>\n",
       "      <th>velocity_angle_15</th>\n",
       "      <th>velocity_angle_16</th>\n",
       "      <th>velocity_angle_17</th>\n",
       "      <th>velocity_angle_18</th>\n",
       "      <th>velocity_angle_19</th>\n",
       "      <th>velocity_angle_20</th>\n",
       "    </tr>\n",
       "  </thead>\n",
       "  <tbody>\n",
       "    <tr>\n",
       "      <th>0</th>\n",
       "      <td>86.878209</td>\n",
       "      <td>216.274132</td>\n",
       "      <td>1.608839</td>\n",
       "      <td>0.448801</td>\n",
       "      <td>0.265213</td>\n",
       "      <td>0.072890</td>\n",
       "      <td>0.000000</td>\n",
       "      <td>0.072421</td>\n",
       "      <td>2.113376</td>\n",
       "      <td>0.826399</td>\n",
       "      <td>...</td>\n",
       "      <td>0.000000</td>\n",
       "      <td>-0.992564</td>\n",
       "      <td>0.000000</td>\n",
       "      <td>0.297340</td>\n",
       "      <td>0.000000</td>\n",
       "      <td>0.000000</td>\n",
       "      <td>0.365807</td>\n",
       "      <td>0.0</td>\n",
       "      <td>0.0</td>\n",
       "      <td>0.000000</td>\n",
       "    </tr>\n",
       "    <tr>\n",
       "      <th>1</th>\n",
       "      <td>87.313688</td>\n",
       "      <td>216.385327</td>\n",
       "      <td>0.448801</td>\n",
       "      <td>0.265213</td>\n",
       "      <td>0.072890</td>\n",
       "      <td>0.000000</td>\n",
       "      <td>0.072421</td>\n",
       "      <td>2.113376</td>\n",
       "      <td>0.826399</td>\n",
       "      <td>0.069784</td>\n",
       "      <td>...</td>\n",
       "      <td>-0.992564</td>\n",
       "      <td>0.000000</td>\n",
       "      <td>0.297340</td>\n",
       "      <td>0.000000</td>\n",
       "      <td>0.000000</td>\n",
       "      <td>0.365807</td>\n",
       "      <td>0.000000</td>\n",
       "      <td>0.0</td>\n",
       "      <td>0.0</td>\n",
       "      <td>0.000000</td>\n",
       "    </tr>\n",
       "    <tr>\n",
       "      <th>2</th>\n",
       "      <td>87.168528</td>\n",
       "      <td>216.162941</td>\n",
       "      <td>0.265213</td>\n",
       "      <td>0.072890</td>\n",
       "      <td>0.000000</td>\n",
       "      <td>0.072421</td>\n",
       "      <td>2.113376</td>\n",
       "      <td>0.826399</td>\n",
       "      <td>0.069784</td>\n",
       "      <td>0.102970</td>\n",
       "      <td>...</td>\n",
       "      <td>0.000000</td>\n",
       "      <td>0.297340</td>\n",
       "      <td>0.000000</td>\n",
       "      <td>0.000000</td>\n",
       "      <td>0.365807</td>\n",
       "      <td>0.000000</td>\n",
       "      <td>0.000000</td>\n",
       "      <td>0.0</td>\n",
       "      <td>0.0</td>\n",
       "      <td>0.000000</td>\n",
       "    </tr>\n",
       "    <tr>\n",
       "      <th>3</th>\n",
       "      <td>87.241094</td>\n",
       "      <td>216.162941</td>\n",
       "      <td>0.072890</td>\n",
       "      <td>0.000000</td>\n",
       "      <td>0.072421</td>\n",
       "      <td>2.113376</td>\n",
       "      <td>0.826399</td>\n",
       "      <td>0.069784</td>\n",
       "      <td>0.102970</td>\n",
       "      <td>0.000000</td>\n",
       "      <td>...</td>\n",
       "      <td>0.297340</td>\n",
       "      <td>0.000000</td>\n",
       "      <td>0.000000</td>\n",
       "      <td>0.365807</td>\n",
       "      <td>0.000000</td>\n",
       "      <td>0.000000</td>\n",
       "      <td>0.000000</td>\n",
       "      <td>0.0</td>\n",
       "      <td>0.0</td>\n",
       "      <td>0.000000</td>\n",
       "    </tr>\n",
       "    <tr>\n",
       "      <th>4</th>\n",
       "      <td>87.241094</td>\n",
       "      <td>216.162941</td>\n",
       "      <td>0.000000</td>\n",
       "      <td>0.072421</td>\n",
       "      <td>2.113376</td>\n",
       "      <td>0.826399</td>\n",
       "      <td>0.069784</td>\n",
       "      <td>0.102970</td>\n",
       "      <td>0.000000</td>\n",
       "      <td>0.108577</td>\n",
       "      <td>...</td>\n",
       "      <td>0.000000</td>\n",
       "      <td>0.000000</td>\n",
       "      <td>0.365807</td>\n",
       "      <td>0.000000</td>\n",
       "      <td>0.000000</td>\n",
       "      <td>0.000000</td>\n",
       "      <td>0.000000</td>\n",
       "      <td>0.0</td>\n",
       "      <td>0.0</td>\n",
       "      <td>-0.992525</td>\n",
       "    </tr>\n",
       "  </tbody>\n",
       "</table>\n",
       "<p>5 rows × 42 columns</p>\n",
       "</div>"
      ],
      "text/plain": [
       "      startX      startY  velocity_value_1  velocity_value_2  \\\n",
       "0  86.878209  216.274132          1.608839          0.448801   \n",
       "1  87.313688  216.385327          0.448801          0.265213   \n",
       "2  87.168528  216.162941          0.265213          0.072890   \n",
       "3  87.241094  216.162941          0.072890          0.000000   \n",
       "4  87.241094  216.162941          0.000000          0.072421   \n",
       "\n",
       "   velocity_value_3  velocity_value_4  velocity_value_5  velocity_value_6  \\\n",
       "0          0.265213          0.072890          0.000000          0.072421   \n",
       "1          0.072890          0.000000          0.072421          2.113376   \n",
       "2          0.000000          0.072421          2.113376          0.826399   \n",
       "3          0.072421          2.113376          0.826399          0.069784   \n",
       "4          2.113376          0.826399          0.069784          0.102970   \n",
       "\n",
       "   velocity_value_7  velocity_value_8  ...  velocity_angle_11  \\\n",
       "0          2.113376          0.826399  ...           0.000000   \n",
       "1          0.826399          0.069784  ...          -0.992564   \n",
       "2          0.069784          0.102970  ...           0.000000   \n",
       "3          0.102970          0.000000  ...           0.297340   \n",
       "4          0.000000          0.108577  ...           0.000000   \n",
       "\n",
       "   velocity_angle_12  velocity_angle_13  velocity_angle_14  velocity_angle_15  \\\n",
       "0          -0.992564           0.000000           0.297340           0.000000   \n",
       "1           0.000000           0.297340           0.000000           0.000000   \n",
       "2           0.297340           0.000000           0.000000           0.365807   \n",
       "3           0.000000           0.000000           0.365807           0.000000   \n",
       "4           0.000000           0.365807           0.000000           0.000000   \n",
       "\n",
       "   velocity_angle_16  velocity_angle_17  velocity_angle_18  velocity_angle_19  \\\n",
       "0           0.000000           0.365807                0.0                0.0   \n",
       "1           0.365807           0.000000                0.0                0.0   \n",
       "2           0.000000           0.000000                0.0                0.0   \n",
       "3           0.000000           0.000000                0.0                0.0   \n",
       "4           0.000000           0.000000                0.0                0.0   \n",
       "\n",
       "   velocity_angle_20  \n",
       "0           0.000000  \n",
       "1           0.000000  \n",
       "2           0.000000  \n",
       "3           0.000000  \n",
       "4          -0.992525  \n",
       "\n",
       "[5 rows x 42 columns]"
      ]
     },
     "execution_count": 6,
     "metadata": {},
     "output_type": "execute_result"
    }
   ],
   "source": [
    "inputsdf=datasetdf.iloc[:,0:42]\n",
    "inputsdf.head()"
   ]
  },
  {
   "cell_type": "code",
   "execution_count": 7,
   "id": "1e3d9ff1",
   "metadata": {},
   "outputs": [
    {
     "data": {
      "text/html": [
       "<div>\n",
       "<style scoped>\n",
       "    .dataframe tbody tr th:only-of-type {\n",
       "        vertical-align: middle;\n",
       "    }\n",
       "\n",
       "    .dataframe tbody tr th {\n",
       "        vertical-align: top;\n",
       "    }\n",
       "\n",
       "    .dataframe thead th {\n",
       "        text-align: right;\n",
       "    }\n",
       "</style>\n",
       "<table border=\"1\" class=\"dataframe\">\n",
       "  <thead>\n",
       "    <tr style=\"text-align: right;\">\n",
       "      <th></th>\n",
       "      <th>state_1</th>\n",
       "      <th>state_2</th>\n",
       "      <th>state_3</th>\n",
       "      <th>state_4</th>\n",
       "      <th>state_5</th>\n",
       "      <th>state_6</th>\n",
       "      <th>state_7</th>\n",
       "      <th>state_8</th>\n",
       "      <th>state_9</th>\n",
       "      <th>state_10</th>\n",
       "      <th>state_11</th>\n",
       "      <th>state_12</th>\n",
       "      <th>state_13</th>\n",
       "      <th>state_14</th>\n",
       "      <th>state_15</th>\n",
       "      <th>state_16</th>\n",
       "      <th>state_17</th>\n",
       "      <th>state_18</th>\n",
       "      <th>state_19</th>\n",
       "      <th>state_20</th>\n",
       "    </tr>\n",
       "  </thead>\n",
       "  <tbody>\n",
       "    <tr>\n",
       "      <th>0</th>\n",
       "      <td>23</td>\n",
       "      <td>23</td>\n",
       "      <td>23</td>\n",
       "      <td>23</td>\n",
       "      <td>23</td>\n",
       "      <td>23</td>\n",
       "      <td>23</td>\n",
       "      <td>23</td>\n",
       "      <td>23</td>\n",
       "      <td>23</td>\n",
       "      <td>23</td>\n",
       "      <td>23</td>\n",
       "      <td>23</td>\n",
       "      <td>23</td>\n",
       "      <td>23</td>\n",
       "      <td>23</td>\n",
       "      <td>23</td>\n",
       "      <td>23</td>\n",
       "      <td>23</td>\n",
       "      <td>23</td>\n",
       "    </tr>\n",
       "    <tr>\n",
       "      <th>1</th>\n",
       "      <td>23</td>\n",
       "      <td>23</td>\n",
       "      <td>23</td>\n",
       "      <td>23</td>\n",
       "      <td>23</td>\n",
       "      <td>23</td>\n",
       "      <td>23</td>\n",
       "      <td>23</td>\n",
       "      <td>23</td>\n",
       "      <td>23</td>\n",
       "      <td>23</td>\n",
       "      <td>23</td>\n",
       "      <td>23</td>\n",
       "      <td>23</td>\n",
       "      <td>23</td>\n",
       "      <td>23</td>\n",
       "      <td>23</td>\n",
       "      <td>23</td>\n",
       "      <td>23</td>\n",
       "      <td>23</td>\n",
       "    </tr>\n",
       "    <tr>\n",
       "      <th>2</th>\n",
       "      <td>23</td>\n",
       "      <td>23</td>\n",
       "      <td>23</td>\n",
       "      <td>23</td>\n",
       "      <td>23</td>\n",
       "      <td>23</td>\n",
       "      <td>23</td>\n",
       "      <td>23</td>\n",
       "      <td>23</td>\n",
       "      <td>23</td>\n",
       "      <td>23</td>\n",
       "      <td>23</td>\n",
       "      <td>23</td>\n",
       "      <td>23</td>\n",
       "      <td>23</td>\n",
       "      <td>23</td>\n",
       "      <td>23</td>\n",
       "      <td>23</td>\n",
       "      <td>23</td>\n",
       "      <td>23</td>\n",
       "    </tr>\n",
       "    <tr>\n",
       "      <th>3</th>\n",
       "      <td>23</td>\n",
       "      <td>23</td>\n",
       "      <td>23</td>\n",
       "      <td>23</td>\n",
       "      <td>23</td>\n",
       "      <td>23</td>\n",
       "      <td>23</td>\n",
       "      <td>23</td>\n",
       "      <td>23</td>\n",
       "      <td>23</td>\n",
       "      <td>23</td>\n",
       "      <td>23</td>\n",
       "      <td>23</td>\n",
       "      <td>23</td>\n",
       "      <td>23</td>\n",
       "      <td>23</td>\n",
       "      <td>23</td>\n",
       "      <td>23</td>\n",
       "      <td>23</td>\n",
       "      <td>23</td>\n",
       "    </tr>\n",
       "    <tr>\n",
       "      <th>4</th>\n",
       "      <td>23</td>\n",
       "      <td>23</td>\n",
       "      <td>23</td>\n",
       "      <td>23</td>\n",
       "      <td>23</td>\n",
       "      <td>23</td>\n",
       "      <td>23</td>\n",
       "      <td>23</td>\n",
       "      <td>23</td>\n",
       "      <td>23</td>\n",
       "      <td>23</td>\n",
       "      <td>23</td>\n",
       "      <td>23</td>\n",
       "      <td>23</td>\n",
       "      <td>23</td>\n",
       "      <td>23</td>\n",
       "      <td>23</td>\n",
       "      <td>23</td>\n",
       "      <td>23</td>\n",
       "      <td>23</td>\n",
       "    </tr>\n",
       "  </tbody>\n",
       "</table>\n",
       "</div>"
      ],
      "text/plain": [
       "   state_1  state_2  state_3  state_4  state_5  state_6  state_7  state_8  \\\n",
       "0       23       23       23       23       23       23       23       23   \n",
       "1       23       23       23       23       23       23       23       23   \n",
       "2       23       23       23       23       23       23       23       23   \n",
       "3       23       23       23       23       23       23       23       23   \n",
       "4       23       23       23       23       23       23       23       23   \n",
       "\n",
       "   state_9  state_10  state_11  state_12  state_13  state_14  state_15  \\\n",
       "0       23        23        23        23        23        23        23   \n",
       "1       23        23        23        23        23        23        23   \n",
       "2       23        23        23        23        23        23        23   \n",
       "3       23        23        23        23        23        23        23   \n",
       "4       23        23        23        23        23        23        23   \n",
       "\n",
       "   state_16  state_17  state_18  state_19  state_20  \n",
       "0        23        23        23        23        23  \n",
       "1        23        23        23        23        23  \n",
       "2        23        23        23        23        23  \n",
       "3        23        23        23        23        23  \n",
       "4        23        23        23        23        23  "
      ]
     },
     "execution_count": 7,
     "metadata": {},
     "output_type": "execute_result"
    }
   ],
   "source": [
    "targetsdf=datasetdf.iloc[:,42:]\n",
    "targetsdf.head()"
   ]
  },
  {
   "cell_type": "code",
   "execution_count": 8,
   "id": "5261a0b5",
   "metadata": {},
   "outputs": [
    {
     "name": "stdout",
     "output_type": "stream",
     "text": [
      "(1534, 42)\n"
     ]
    },
    {
     "data": {
      "text/plain": [
       "array([[ 8.68782086e+01,  2.16274132e+02,  1.60883934e+00, ...,\n",
       "         0.00000000e+00,  0.00000000e+00,  0.00000000e+00],\n",
       "       [ 8.73136883e+01,  2.16385327e+02,  4.48800823e-01, ...,\n",
       "         0.00000000e+00,  0.00000000e+00,  0.00000000e+00],\n",
       "       [ 8.71685279e+01,  2.16162941e+02,  2.65212732e-01, ...,\n",
       "         0.00000000e+00,  0.00000000e+00,  0.00000000e+00],\n",
       "       ...,\n",
       "       [ 8.22330918e+01,  2.14495019e+02,  1.70368594e-01, ...,\n",
       "        -3.05667663e+00,  3.08490689e+00,  3.14159265e+00],\n",
       "       [ 8.21604954e+01,  2.14606212e+02,  1.43114696e-01, ...,\n",
       "         3.08490689e+00,  3.14159265e+00,  3.06877167e+00],\n",
       "       [ 8.21604954e+01,  2.14717411e+02,  1.06922051e-01, ...,\n",
       "         3.14159265e+00,  3.06877167e+00,  3.14159265e+00]])"
      ]
     },
     "execution_count": 8,
     "metadata": {},
     "output_type": "execute_result"
    }
   ],
   "source": [
    "inputs=inputsdf.to_numpy()\n",
    "print(inputs.shape)\n",
    "inputs"
   ]
  },
  {
   "cell_type": "code",
   "execution_count": 9,
   "id": "965df9f6",
   "metadata": {},
   "outputs": [
    {
     "name": "stdout",
     "output_type": "stream",
     "text": [
      "(1534, 20)\n"
     ]
    },
    {
     "data": {
      "text/plain": [
       "array([[23, 23, 23, ..., 23, 23, 23],\n",
       "       [23, 23, 23, ..., 23, 23, 23],\n",
       "       [23, 23, 23, ..., 23, 23, 23],\n",
       "       ...,\n",
       "       [27, 27, 27, ..., 27, 27, 27],\n",
       "       [27, 27, 27, ..., 27, 27, 27],\n",
       "       [27, 27, 27, ..., 27, 27, 27]], dtype=int64)"
      ]
     },
     "execution_count": 9,
     "metadata": {},
     "output_type": "execute_result"
    }
   ],
   "source": [
    "targets=targetsdf.to_numpy()\n",
    "print(targets.shape)\n",
    "targets"
   ]
  },
  {
   "cell_type": "markdown",
   "id": "ba06d97a",
   "metadata": {},
   "source": [
    "Convert To Tensor"
   ]
  },
  {
   "cell_type": "code",
   "execution_count": 10,
   "id": "09697bd3",
   "metadata": {},
   "outputs": [
    {
     "name": "stdout",
     "output_type": "stream",
     "text": [
      "tensor([[ 8.6878e+01,  2.1627e+02,  1.6088e+00,  ...,  0.0000e+00,\n",
      "          0.0000e+00,  0.0000e+00],\n",
      "        [ 8.7314e+01,  2.1639e+02,  4.4880e-01,  ...,  0.0000e+00,\n",
      "          0.0000e+00,  0.0000e+00],\n",
      "        [ 8.7169e+01,  2.1616e+02,  2.6521e-01,  ...,  0.0000e+00,\n",
      "          0.0000e+00,  0.0000e+00],\n",
      "        ...,\n",
      "        [ 8.2233e+01,  2.1450e+02,  1.7037e-01,  ..., -3.0567e+00,\n",
      "          3.0849e+00,  3.1416e+00],\n",
      "        [ 8.2160e+01,  2.1461e+02,  1.4311e-01,  ...,  3.0849e+00,\n",
      "          3.1416e+00,  3.0688e+00],\n",
      "        [ 8.2160e+01,  2.1472e+02,  1.0692e-01,  ...,  3.1416e+00,\n",
      "          3.0688e+00,  3.1416e+00]], dtype=torch.float64)\n",
      "tensor([[23, 23, 23,  ..., 23, 23, 23],\n",
      "        [23, 23, 23,  ..., 23, 23, 23],\n",
      "        [23, 23, 23,  ..., 23, 23, 23],\n",
      "        ...,\n",
      "        [27, 27, 27,  ..., 27, 27, 27],\n",
      "        [27, 27, 27,  ..., 27, 27, 27],\n",
      "        [27, 27, 27,  ..., 27, 27, 27]])\n"
     ]
    }
   ],
   "source": [
    "inputs = torch.from_numpy(inputs)\n",
    "targets = torch.from_numpy(targets)\n",
    "print(inputs)\n",
    "print(targets)"
   ]
  },
  {
   "cell_type": "code",
   "execution_count": 11,
   "id": "e9878531",
   "metadata": {
    "scrolled": false
   },
   "outputs": [
    {
     "data": {
      "text/plain": [
       "(tensor([[ 8.6878e+01,  2.1627e+02,  1.6088e+00,  4.4880e-01,  2.6521e-01,\n",
       "           7.2890e-02,  0.0000e+00,  7.2421e-02,  2.1134e+00,  8.2640e-01,\n",
       "           6.9784e-02,  1.0297e-01,  0.0000e+00,  1.0858e-01,  1.2667e-01,\n",
       "           4.1078e-01,  4.3377e-01,  4.8899e-01,  5.7149e-01,  2.8022e-01,\n",
       "           5.1010e-01,  7.6066e-02,  3.8021e-01,  2.5000e-01, -2.1491e+00,\n",
       "           0.0000e+00,  0.0000e+00,  3.1416e+00,  2.0338e+00, -1.5708e+00,\n",
       "           3.1416e+00, -1.5708e+00,  0.0000e+00, -9.9256e-01,  0.0000e+00,\n",
       "           2.9734e-01,  0.0000e+00,  0.0000e+00,  3.6581e-01,  0.0000e+00,\n",
       "           0.0000e+00,  0.0000e+00],\n",
       "         [ 8.7314e+01,  2.1639e+02,  4.4880e-01,  2.6521e-01,  7.2890e-02,\n",
       "           0.0000e+00,  7.2421e-02,  2.1134e+00,  8.2640e-01,  6.9784e-02,\n",
       "           1.0297e-01,  0.0000e+00,  1.0858e-01,  1.2667e-01,  4.1078e-01,\n",
       "           4.3377e-01,  4.8899e-01,  5.7149e-01,  2.8022e-01,  5.1010e-01,\n",
       "           7.6066e-02,  2.1347e-01,  2.5000e-01, -2.1491e+00,  0.0000e+00,\n",
       "           0.0000e+00,  3.1416e+00,  2.0338e+00, -1.5708e+00,  3.1416e+00,\n",
       "          -1.5708e+00,  0.0000e+00, -9.9256e-01,  0.0000e+00,  2.9734e-01,\n",
       "           0.0000e+00,  0.0000e+00,  3.6581e-01,  0.0000e+00,  0.0000e+00,\n",
       "           0.0000e+00,  0.0000e+00],\n",
       "         [ 8.7169e+01,  2.1616e+02,  2.6521e-01,  7.2890e-02,  0.0000e+00,\n",
       "           7.2421e-02,  2.1134e+00,  8.2640e-01,  6.9784e-02,  1.0297e-01,\n",
       "           0.0000e+00,  1.0858e-01,  1.2667e-01,  4.1078e-01,  4.3377e-01,\n",
       "           4.8899e-01,  5.7149e-01,  2.8022e-01,  5.1010e-01,  7.6066e-02,\n",
       "           2.1347e-01,  1.4161e-01, -2.1491e+00,  0.0000e+00,  0.0000e+00,\n",
       "           3.1416e+00,  2.0338e+00, -1.5708e+00,  3.1416e+00, -1.5708e+00,\n",
       "           0.0000e+00, -9.9256e-01,  0.0000e+00,  2.9734e-01,  0.0000e+00,\n",
       "           0.0000e+00,  3.6581e-01,  0.0000e+00,  0.0000e+00,  0.0000e+00,\n",
       "           0.0000e+00,  0.0000e+00]], dtype=torch.float64),\n",
       " tensor([[23, 23, 23, 23, 23, 23, 23, 23, 23, 23, 23, 23, 23, 23, 23, 23, 23, 23,\n",
       "          23, 23],\n",
       "         [23, 23, 23, 23, 23, 23, 23, 23, 23, 23, 23, 23, 23, 23, 23, 23, 23, 23,\n",
       "          23, 23],\n",
       "         [23, 23, 23, 23, 23, 23, 23, 23, 23, 23, 23, 23, 23, 23, 23, 23, 23, 23,\n",
       "          23, 23]]))"
      ]
     },
     "execution_count": 11,
     "metadata": {},
     "output_type": "execute_result"
    }
   ],
   "source": [
    "ds = TensorDataset(inputs, targets)\n",
    "ds[0:3]"
   ]
  },
  {
   "cell_type": "markdown",
   "id": "daace5c3",
   "metadata": {},
   "source": [
    "Split Train Test Set Randomly"
   ]
  },
  {
   "cell_type": "code",
   "execution_count": 12,
   "id": "ea4e4bce",
   "metadata": {},
   "outputs": [],
   "source": [
    "# Random split\n",
    "train_set_size = int(len(ds) * 0.8)\n",
    "test_set_size = len(ds) - train_set_size\n",
    "train_set, test_set = data.random_split(ds, [train_set_size, test_set_size])"
   ]
  },
  {
   "cell_type": "markdown",
   "id": "72de15fe",
   "metadata": {},
   "source": [
    "Train DataLoader"
   ]
  },
  {
   "cell_type": "code",
   "execution_count": 13,
   "id": "ce2ec1ad",
   "metadata": {},
   "outputs": [
    {
     "data": {
      "text/plain": [
       "246"
      ]
     },
     "execution_count": 13,
     "metadata": {},
     "output_type": "execute_result"
    }
   ],
   "source": [
    "batch_size = 5\n",
    "train_dl = DataLoader(train_set, batch_size, shuffle=True)\n",
    "len(train_dl)"
   ]
  },
  {
   "cell_type": "markdown",
   "id": "1acdd5ff",
   "metadata": {},
   "source": [
    "Test DataLoader"
   ]
  },
  {
   "cell_type": "code",
   "execution_count": 14,
   "id": "ec6c75f0",
   "metadata": {},
   "outputs": [
    {
     "data": {
      "text/plain": [
       "62"
      ]
     },
     "execution_count": 14,
     "metadata": {},
     "output_type": "execute_result"
    }
   ],
   "source": [
    "batch_size = 5\n",
    "test_dl = DataLoader(test_set, batch_size, shuffle=True)\n",
    "len(test_dl)"
   ]
  },
  {
   "cell_type": "markdown",
   "id": "f6d1e16e",
   "metadata": {},
   "source": [
    "### Define CRF Functions"
   ]
  },
  {
   "cell_type": "markdown",
   "id": "7f639163",
   "metadata": {},
   "source": [
    "Nearest State"
   ]
  },
  {
   "cell_type": "code",
   "execution_count": 15,
   "id": "cf79e932",
   "metadata": {},
   "outputs": [],
   "source": [
    "def calcNearestState(x,y):\n",
    "    currentNearestStateID=None\n",
    "    minDistance=float('inf')\n",
    "    \n",
    "    for points in graph_dict:\n",
    "        \n",
    "        stateid=points[\"nodeid\"]\n",
    "        val1=points['y_dir_pixels']/2.5-y\n",
    "        val1*=val1\n",
    "        val2=points['x_dir_pixels']/2.5-x\n",
    "        val2*=val2\n",
    "        val3=val1+val2\n",
    "        distanceToState=val3\n",
    "        \n",
    "        if distanceToState<=minDistance:\n",
    "            minDistance=distanceToState\n",
    "            currentNearestStateID=stateid\n",
    "    return currentNearestStateID"
   ]
  },
  {
   "cell_type": "markdown",
   "id": "36abcf37",
   "metadata": {},
   "source": [
    "Connection Checking Function"
   ]
  },
  {
   "cell_type": "code",
   "execution_count": 16,
   "id": "be7c3336",
   "metadata": {},
   "outputs": [],
   "source": [
    "def isConnected(state_id_t,state_id_t_minus_1):\n",
    "    state_t=graphdf[graphdf[\"nodeid\"]==state_id_t]\n",
    "    state_t_minus_1=graphdf[graphdf[\"nodeid\"]==state_id_t_minus_1]\n",
    "    gid1,gid2=state_t[\"connected_graph_id\"].values[0],state_t_minus_1[\"connected_graph_id\"].values[0]\n",
    "    if gid1==gid2:\n",
    "        return 1\n",
    "    else:\n",
    "        return 0"
   ]
  },
  {
   "cell_type": "markdown",
   "id": "1a232a9a",
   "metadata": {},
   "source": [
    "Function 1"
   ]
  },
  {
   "cell_type": "code",
   "execution_count": 17,
   "id": "4596f5b9",
   "metadata": {},
   "outputs": [],
   "source": [
    "def f1(velocity_value_at_t,std_of_velocity_values,state_id_t,state_id_t_minus_1):\n",
    "    state_t=graphdf[graphdf[\"nodeid\"]==state_id_t]\n",
    "    state_t_minus_1=graphdf[graphdf[\"nodeid\"]==state_id_t_minus_1]\n",
    "    x2,y2=state_t[\"x_dir_pixels\"].values[0],state_t[\"y_dir_pixels\"].values[0]\n",
    "    x1,y1=state_t_minus_1[\"x_dir_pixels\"].values[0],state_t_minus_1[\"y_dir_pixels\"].values[0]\n",
    "    \n",
    "    euc_dis=sqrt((y2-y1)**2+(x2-x1)**2)\n",
    "    \n",
    "    val= log(1/(std_of_velocity_values*sqrt(2*pi)))-((velocity_value_at_t-euc_dis)**2/(2*(std_of_velocity_values**2)))\n",
    "    return val*isConnected(state_id_t,state_id_t_minus_1)\n",
    "    "
   ]
  },
  {
   "cell_type": "markdown",
   "id": "41edc981",
   "metadata": {},
   "source": [
    "Function 2"
   ]
  },
  {
   "cell_type": "code",
   "execution_count": 18,
   "id": "11f25edc",
   "metadata": {},
   "outputs": [],
   "source": [
    "def f2(velocity_angle_at_t,std_of_velocity_angles,state_id_t,state_id_t_minus_1):\n",
    "    state_t=graphdf[graphdf[\"nodeid\"]==state_id_t]\n",
    "    state_t_minus_1=graphdf[graphdf[\"nodeid\"]==state_id_t_minus_1]\n",
    "    x2,y2=state_t[\"x_dir_pixels\"].values[0],state_t[\"y_dir_pixels\"].values[0]\n",
    "    x1,y1=state_t_minus_1[\"x_dir_pixels\"].values[0],state_t_minus_1[\"y_dir_pixels\"].values[0]\n",
    "    \n",
    "    orientation=atan2(y2-y1,x2-x1)\n",
    "    \n",
    "    val= log(1/(std_of_velocity_angles*sqrt(2*pi)))-((velocity_angle_at_t-orientation)**2/(2*(std_of_velocity_angles**2)))\n",
    "    return val*isConnected(state_id_t,state_id_t_minus_1)\n"
   ]
  },
  {
   "cell_type": "markdown",
   "id": "ef765f60",
   "metadata": {},
   "source": [
    "Combine Both"
   ]
  },
  {
   "cell_type": "code",
   "execution_count": 19,
   "id": "81841795",
   "metadata": {},
   "outputs": [],
   "source": [
    "def F(velocity_value_at_t,velocity_angle_at_t,std_of_velocity_values,std_of_velocity_angles,state_id_t,state_id_t_minus_1,w1,w2):\n",
    "    \n",
    "    return w1*f1(velocity_value_at_t,std_of_velocity_values,state_id_t,state_id_t_minus_1)+w2*f2(velocity_angle_at_t,std_of_velocity_angles,state_id_t,state_id_t_minus_1)\n",
    "    "
   ]
  },
  {
   "cell_type": "markdown",
   "id": "bfa83c4c",
   "metadata": {},
   "source": [
    "Calculate std"
   ]
  },
  {
   "cell_type": "code",
   "execution_count": 20,
   "id": "0269e0a9",
   "metadata": {},
   "outputs": [],
   "source": [
    "def std(list1):\n",
    "    return torch.std(list1)"
   ]
  },
  {
   "cell_type": "markdown",
   "id": "2433aec2",
   "metadata": {},
   "source": [
    "### Define Viterbi Algorithms"
   ]
  },
  {
   "cell_type": "markdown",
   "id": "f31e391a",
   "metadata": {},
   "source": [
    "#### Viterbi Recursion"
   ]
  },
  {
   "cell_type": "code",
   "execution_count": 21,
   "id": "a236cab9",
   "metadata": {},
   "outputs": [],
   "source": [
    "def ViterbiRecursion(starting_state,lstate,velocity_value_at_t,velocity_angle_at_t,std_of_velocity_values,std_of_velocity_angles,w1,w2,i,cache):\n",
    "    \n",
    "    if i==0:\n",
    "        return F(velocity_value_at_t,velocity_angle_at_t,std_of_velocity_values,std_of_velocity_angles,lstate,starting_state,w1,w2)\n",
    "    else:\n",
    "        maxval=-float('inf')\n",
    "        argmax=None\n",
    "        for j in graphdf[\"nodeid\"]:\n",
    "            key=\"delta-i,l=\"+str(i-1)+\",\"+str(j)\n",
    "            if key in cache.keys():\n",
    "                val1 = cache[key]\n",
    "            else:\n",
    "                val1 = ViterbiRecursion(starting_state,j,velocity_value_at_t,velocity_angle_at_t,std_of_velocity_values,std_of_velocity_angles,w1,w2,i-1,cache)\n",
    "            val2 = F(velocity_value_at_t,velocity_angle_at_t,std_of_velocity_values,std_of_velocity_angles,lstate,j,w1,w2)\n",
    "            val=val1+val2\n",
    "            if(val>maxval):\n",
    "                maxval=val\n",
    "        cache[\"delta-i,l=\"+str(i)+\",\"+str(lstate)]=maxval\n",
    "        return maxval\n",
    "        \n",
    "    "
   ]
  },
  {
   "cell_type": "markdown",
   "id": "2906fbe2",
   "metadata": {},
   "source": [
    "### Define Model"
   ]
  },
  {
   "cell_type": "markdown",
   "id": "8253d856",
   "metadata": {},
   "source": [
    "Detailed Model Diagram"
   ]
  },
  {
   "attachments": {
    "diagram.png": {
     "image/png": "[encoded data removed]"
    }
   },
   "cell_type": "markdown",
   "id": "632e71fc",
   "metadata": {},
   "source": [
    "![diagram.png](attachment:diagram.png)"
   ]
  },
  {
   "cell_type": "markdown",
   "id": "20022f55",
   "metadata": {},
   "source": [
    "Layer 1"
   ]
  },
  {
   "cell_type": "code",
   "execution_count": 22,
   "id": "ca5a892e",
   "metadata": {},
   "outputs": [],
   "source": [
    "#ViterbiRecursion(starting_state,lstate,velocity_value_at_t,velocity_angle_at_t,std_of_velocity_values,std_of_velocity_angles,w1,w2,i,cache):\n",
    "   \n",
    "class Layer1(torch.nn.Module):\n",
    "    def __init__(self):\n",
    "        \n",
    "        super().__init__()\n",
    "        self.w1 = torch.nn.Parameter(torch.randn(()))\n",
    "        self.w2 = torch.nn.Parameter(torch.randn(()))\n",
    "        self.deltas=[]\n",
    "        self.gammas=[]\n",
    "        \n",
    "\n",
    "    def forward(self, x):\n",
    "        startx=x[:,0]\n",
    "        starty=x[:,1]\n",
    "        v_values=x[:,2:22]\n",
    "        v_angles=x[:,22:42]\n",
    "        startingState=[]\n",
    "        for iteration in range(len(startx)):\n",
    "            startingState.append(calcNearestState(startx[iteration],starty[iteration]))\n",
    "        startingState=torch.tensor(startingState)\n",
    "        std_v_values=std(v_values)\n",
    "        std_v_angles=std(v_angles)\n",
    "        \n",
    "        for datano in range(5):\n",
    "            cache={}\n",
    "            single_argmax=[]\n",
    "            for t in range(1,21):\n",
    "                maxval=-float('inf')\n",
    "                argmax=None\n",
    "                for state in range(30):\n",
    "                    val = ViterbiRecursion(startingState[datano].item(),state,v_values[datano][t-1],v_angles[datano][t-1],std_v_values,std_v_angles,self.w1,self.w2,t,cache) \n",
    "                    if val>maxval:\n",
    "                        maxval=val\n",
    "                        argmax=state\n",
    "                single_argmax.append(argmax)\n",
    "            print(single_argmax)\n",
    "            self.gammas.append(single_argmax)\n",
    "            \n",
    "        return self.gammas\n"
   ]
  },
  {
   "cell_type": "code",
   "execution_count": 23,
   "id": "549d5d51",
   "metadata": {},
   "outputs": [],
   "source": [
    "model = torch.nn.Sequential(\n",
    "    Layer1()\n",
    ")"
   ]
  },
  {
   "cell_type": "code",
   "execution_count": 24,
   "id": "91347615",
   "metadata": {},
   "outputs": [
    {
     "data": {
      "text/plain": [
       "[Parameter containing:\n",
       " tensor(-0.4729, requires_grad=True),\n",
       " Parameter containing:\n",
       " tensor(-2.5907, requires_grad=True)]"
      ]
     },
     "execution_count": 24,
     "metadata": {},
     "output_type": "execute_result"
    }
   ],
   "source": [
    "list(model.parameters())"
   ]
  },
  {
   "cell_type": "markdown",
   "id": "cf54d18f",
   "metadata": {},
   "source": [
    "### Training"
   ]
  },
  {
   "cell_type": "code",
   "execution_count": 25,
   "id": "6b89c236",
   "metadata": {},
   "outputs": [],
   "source": [
    "loss_fn = torch.nn.MSELoss()\n",
    "opt = torch.optim.SGD(model.parameters(), lr=1e-5)"
   ]
  },
  {
   "cell_type": "code",
   "execution_count": 26,
   "id": "4bda043d",
   "metadata": {},
   "outputs": [],
   "source": [
    "# Utility function to train the model\n",
    "def fit(num_epochs, model, loss_fn, opt, train_dl):\n",
    "    \n",
    "    # Repeat for given number of epochs\n",
    "    for epoch in range(num_epochs):\n",
    "        \n",
    "        # Train with batches of data\n",
    "        for xb,yb in train_dl:\n",
    "            \n",
    "            # 1. Generate predictions\n",
    "            pred = model(xb)\n",
    "            \n",
    "            # 2. Calculate loss\n",
    "            loss = loss_fn(pred, yb)\n",
    "            \n",
    "            # 3. Compute gradients\n",
    "            loss.backward()\n",
    "            \n",
    "            # 4. Update parameters using gradients\n",
    "            opt.step()\n",
    "            \n",
    "            # 5. Reset the gradients to zero\n",
    "            opt.zero_grad()\n",
    "        \n",
    "        # Print the progress\n",
    "        if (epoch+1) % 10 == 0:\n",
    "            print('Epoch [{}/{}], Loss: {:.4f}'.format(epoch+1, num_epochs, loss.item()))"
   ]
  },
  {
   "cell_type": "code",
   "execution_count": null,
   "id": "2f2a7640",
   "metadata": {},
   "outputs": [],
   "source": [
    "fit(100, model, loss_fn, opt, train_dl)"
   ]
  },
  {
   "cell_type": "code",
   "execution_count": 27,
   "id": "4e795ced",
   "metadata": {},
   "outputs": [
    {
     "name": "stdout",
     "output_type": "stream",
     "text": [
      "[27, 5, 27, 5, 27, 5, 27, 5, 27, 5, 27, 5, 27, 5, 27, 5, 27, 5, 27, 5]\n",
      "[5, 27, 5, 27, 5, 27, 5, 27, 5, 27, 5, 27, 5, 27, 5, 27, 5, 27, 5, 27]\n",
      "[5, 27, 5, 27, 5, 27, 5, 27, 5, 27, 5, 27, 5, 27, 5, 27, 5, 27, 5, 27]\n",
      "[27, 5, 27, 5, 27, 5, 27, 5, 27, 5, 27, 5, 27, 5, 27, 5, 27, 5, 27, 5]\n",
      "[5, 27, 5, 27, 5, 27, 5, 27, 5, 27, 5, 27, 5, 27, 5, 27, 5, 27, 5, 27]\n",
      "[[27, 5, 27, 5, 27, 5, 27, 5, 27, 5, 27, 5, 27, 5, 27, 5, 27, 5, 27, 5], [5, 27, 5, 27, 5, 27, 5, 27, 5, 27, 5, 27, 5, 27, 5, 27, 5, 27, 5, 27], [5, 27, 5, 27, 5, 27, 5, 27, 5, 27, 5, 27, 5, 27, 5, 27, 5, 27, 5, 27], [27, 5, 27, 5, 27, 5, 27, 5, 27, 5, 27, 5, 27, 5, 27, 5, 27, 5, 27, 5], [5, 27, 5, 27, 5, 27, 5, 27, 5, 27, 5, 27, 5, 27, 5, 27, 5, 27, 5, 27]]\n"
     ]
    }
   ],
   "source": [
    "for xb,yb in train_dl:\n",
    "    pred = model(xb)\n",
    "    print(pred)\n",
    "    break"
   ]
  },
  {
   "cell_type": "code",
   "execution_count": null,
   "id": "fbd48fc9",
   "metadata": {},
   "outputs": [],
   "source": []
  }
 ],
 "metadata": {
  "kernelspec": {
   "display_name": "Python 3 (ipykernel)",
   "language": "python",
   "name": "python3"
  },
  "language_info": {
   "codemirror_mode": {
    "name": "ipython",
    "version": 3
   },
   "file_extension": ".py",
   "mimetype": "text/x-python",
   "name": "python",
   "nbconvert_exporter": "python",
   "pygments_lexer": "ipython3",
   "version": "3.9.12"
  }
 },
 "nbformat": 4,
 "nbformat_minor": 5
}
